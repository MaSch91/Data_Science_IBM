{
 "cells": [
  {
   "cell_type": "markdown",
   "id": "14ce2f47-fef4-4dce-b7d8-5694c117fe08",
   "metadata": {},
   "source": [
    "# Data Science Tools and Ecosystem"
   ]
  },
  {
   "cell_type": "markdown",
   "id": "570dd1f3-d347-44d3-8432-f6a3eabfa45d",
   "metadata": {},
   "source": [
    "This notebook provides an overview of Data Science tools and concepts, including languages, libraries, and tools commonly used in the field."
   ]
  },
  {
   "cell_type": "markdown",
   "id": "55885743-959c-425b-b101-1f877659f98b",
   "metadata": {},
   "source": [
    "## Data Science Languages\n",
    "- Python\n",
    "- R\n",
    "- SQL\n",
    "- Julia\n",
    "- Scala"
   ]
  },
  {
   "cell_type": "markdown",
   "id": "a70cbb07-823d-46ea-b2d6-40953369dc0a",
   "metadata": {},
   "source": [
    "## Data Science Tools\n",
    "| Tool           | Description |\n",
    "|---------------|-------------|\n",
    "| Jupyter Notebook | Interactive computing environment |\n",
    "| RStudio | IDE for R programming |\n",
    "| Apache Spark | Big Data processing framework |\n",
    "| TensorFlow | Deep learning framework |\n",
    "| GitHub | Version control and collaboration platform |"
   ]
  },
  {
   "cell_type": "markdown",
   "id": "b44bc67a-956f-4431-83ae-fdf44dc24cff",
   "metadata": {},
   "source": [
    "## Arithmetic Expression Examples\n",
    "Arithmetic expressions in programming allow us to perform mathematical calculations such as addition, subtraction, multiplication, and division."
   ]
  },
  {
   "cell_type": "code",
   "execution_count": 2,
   "id": "5945e7ea-38a4-4e2a-88d9-720cc862b020",
   "metadata": {},
   "outputs": [
    {
     "data": {
      "text/plain": [
       "17"
      ]
     },
     "execution_count": 2,
     "metadata": {},
     "output_type": "execute_result"
    }
   ],
   "source": [
    "x = (3 * 4) + 5\n",
    "x  "
   ]
  },
  {
   "cell_type": "code",
   "execution_count": 3,
   "id": "7a67f6bd-4d68-4d13-b617-84d393ddddea",
   "metadata": {},
   "outputs": [
    {
     "data": {
      "text/plain": [
       "3.3333333333333335"
      ]
     },
     "execution_count": 3,
     "metadata": {},
     "output_type": "execute_result"
    }
   ],
   "source": [
    "minutes = 200\n",
    "hours = minutes / 60\n",
    "hours "
   ]
  },
  {
   "cell_type": "markdown",
   "id": "0596fb71-60b7-4dab-b435-ee44f4b55e2f",
   "metadata": {},
   "source": [
    "## Objectives\n",
    "- Understand the basics of Data Science\n",
    "- Learn about popular Data Science tools and libraries\n",
    "- Practice writing Markdown and Python code in Jupyter Notebook\n",
    "- Perform simple arithmetic operations in Python"
   ]
  },
  {
   "cell_type": "markdown",
   "id": "d1224726-3198-46a5-a475-398d948ca1ad",
   "metadata": {},
   "source": [
    "## Author\n",
    "Marc Schulze"
   ]
  }
 ],
 "metadata": {
  "kernelspec": {
   "display_name": "Python 3 (ipykernel)",
   "language": "python",
   "name": "python3"
  },
  "language_info": {
   "codemirror_mode": {
    "name": "ipython",
    "version": 3
   },
   "file_extension": ".py",
   "mimetype": "text/x-python",
   "name": "python",
   "nbconvert_exporter": "python",
   "pygments_lexer": "ipython3",
   "version": "3.11.5"
  }
 },
 "nbformat": 4,
 "nbformat_minor": 5
}
